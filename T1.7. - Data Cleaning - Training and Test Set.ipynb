{
 "cells": [
  {
   "cell_type": "markdown",
   "id": "casual-speed",
   "metadata": {},
   "source": [
    "It is a good practice to divide the whole dataset we are using into two groups:\n",
    "* Training set: the one we will use to train our model (for the one the parameters are computed)\n",
    "* Test set: the one that the model with be tested to know it's validity\n",
    "\n",
    "And there are several ways we can do this division (normally 80/20 or 75/25 between training set and test set respectively)."
   ]
  },
  {
   "cell_type": "code",
   "execution_count": 1,
   "id": "criminal-powder",
   "metadata": {},
   "outputs": [],
   "source": [
    "import numpy as np\n",
    "import pandas as pd\n",
    "import matplotlib.pyplot as plt\n",
    "import sklearn\n",
    "\n",
    "\n",
    "mainpath = \"C:/Users/Msi/Documents/Trasladar/YO/Projects\\Machine Learning/datasets\"\n",
    "filepath = \"/customer_churn_model/customer_churn_model.txt\"\n",
    "data = pd.read_csv(mainpath+filepath)"
   ]
  },
  {
   "cell_type": "markdown",
   "id": "adequate-compiler",
   "metadata": {},
   "source": [
    "## Normal distribution"
   ]
  },
  {
   "cell_type": "code",
   "execution_count": 2,
   "id": "acute-broadway",
   "metadata": {},
   "outputs": [
    {
     "data": {
      "text/plain": [
       "(array([ 725.,    0.,    0.,    0.,    0.,    0.,    0.,    0.,    0.,\n",
       "        2608.]),\n",
       " array([0. , 0.1, 0.2, 0.3, 0.4, 0.5, 0.6, 0.7, 0.8, 0.9, 1. ]),\n",
       " <BarContainer object of 10 artists>)"
      ]
     },
     "execution_count": 2,
     "metadata": {},
     "output_type": "execute_result"
    }
   ],
   "source": [
    "#We use a normal distribution to select the values\n",
    "\n",
    "a = np.random.randn(len(data))\n",
    "#We create a normal distribution of the length of the data\n",
    "\n",
    "check = (a<0.8)\n",
    "#We do a boolean test to collect the values that are lower in the distribution of 0.8 (which will represent aprx. for 80%)\n",
    "\n",
    "plt.hist(check.astype(int))\n",
    "#Make the plot of this. As it is a boolean list, we put .astype(int) to be able to plot it"
   ]
  },
  {
   "cell_type": "code",
   "execution_count": 3,
   "id": "welsh-district",
   "metadata": {},
   "outputs": [],
   "source": [
    "#And now we make the division of datasets\n",
    "training = data[check]\n",
    "testing = data[~check]"
   ]
  },
  {
   "cell_type": "code",
   "execution_count": 4,
   "id": "offensive-madison",
   "metadata": {},
   "outputs": [
    {
     "data": {
      "text/plain": [
       "2608"
      ]
     },
     "execution_count": 4,
     "metadata": {},
     "output_type": "execute_result"
    }
   ],
   "source": [
    "#We can make the length to make sure the proportions are aprx. 80/20\n",
    "len(training)"
   ]
  },
  {
   "cell_type": "code",
   "execution_count": 5,
   "id": "genuine-connecticut",
   "metadata": {},
   "outputs": [
    {
     "data": {
      "text/plain": [
       "725"
      ]
     },
     "execution_count": 5,
     "metadata": {},
     "output_type": "execute_result"
    }
   ],
   "source": [
    "len(testing)"
   ]
  },
  {
   "cell_type": "markdown",
   "id": "liquid-while",
   "metadata": {},
   "source": [
    "## Sklean train_test_split"
   ]
  },
  {
   "cell_type": "code",
   "execution_count": 9,
   "id": "searching-recipe",
   "metadata": {},
   "outputs": [
    {
     "ename": "TypeError",
     "evalue": "'tuple' object is not callable",
     "output_type": "error",
     "traceback": [
      "\u001b[1;31m---------------------------------------------------------------------------\u001b[0m",
      "\u001b[1;31mTypeError\u001b[0m                                 Traceback (most recent call last)",
      "\u001b[1;32m<ipython-input-9-65a9c8fc41eb>\u001b[0m in \u001b[0;36m<module>\u001b[1;34m\u001b[0m\n\u001b[0;32m      5\u001b[0m \u001b[1;31m#Where inside of the function, we define the array (data), and which we want to be the test size (20%=0.2)\u001b[0m\u001b[1;33m\u001b[0m\u001b[1;33m\u001b[0m\u001b[1;33m\u001b[0m\u001b[0m\n\u001b[0;32m      6\u001b[0m \u001b[1;31m#The disadvantages of these is that we do not have control of how this split is done\u001b[0m\u001b[1;33m\u001b[0m\u001b[1;33m\u001b[0m\u001b[1;33m\u001b[0m\u001b[0m\n\u001b[1;32m----> 7\u001b[1;33m \u001b[0mtraining\u001b[0m\u001b[1;33m.\u001b[0m\u001b[0mshape\u001b[0m\u001b[1;33m(\u001b[0m\u001b[1;33m)\u001b[0m\u001b[1;33m\u001b[0m\u001b[1;33m\u001b[0m\u001b[0m\n\u001b[0m",
      "\u001b[1;31mTypeError\u001b[0m: 'tuple' object is not callable"
     ]
    }
   ],
   "source": [
    "#We are going to import from sklearn (the statistical framework of Python) the train_test_split function\n",
    "from sklearn.model_selection import train_test_split\n",
    "\n",
    "training, test = train_test_split(data, test_size = 0.2)\n",
    "#Where inside of the function, we define the array (data), and which we want to be the test size (20%=0.2)\n",
    "#The disadvantages of these is that we do not have control of how this split is done\n",
    "training.shape()"
   ]
  },
  {
   "cell_type": "markdown",
   "id": "written-processor",
   "metadata": {},
   "source": [
    "## Shuffling"
   ]
  },
  {
   "cell_type": "code",
   "execution_count": 2,
   "id": "brave-shakespeare",
   "metadata": {},
   "outputs": [],
   "source": [
    "#We can make a shuffle of the values and then make the division\n",
    "import sklearn #To do this import, we would have to download this framework in the environment of Anaconda\n",
    "data_shuffled = sklearn.utils.shuffle(data) #To shaffle data using the sklearn utils"
   ]
  },
  {
   "cell_type": "code",
   "execution_count": 6,
   "id": "soviet-saudi",
   "metadata": {},
   "outputs": [],
   "source": [
    "out_id = int(0.75 * len(data_shuffled)) #Where now the division is 75/25\n",
    "\n",
    "train_data = data_shuffled[:out_id]\n",
    "test_data = data_shuffled[out_id+1:]"
   ]
  },
  {
   "cell_type": "code",
   "execution_count": 4,
   "id": "going-village",
   "metadata": {},
   "outputs": [
    {
     "data": {
      "text/plain": [
       "2499"
      ]
     },
     "execution_count": 4,
     "metadata": {},
     "output_type": "execute_result"
    }
   ],
   "source": [
    "len(train_data)"
   ]
  },
  {
   "cell_type": "code",
   "execution_count": 7,
   "id": "unexpected-fraction",
   "metadata": {},
   "outputs": [
    {
     "data": {
      "text/plain": [
       "833"
      ]
     },
     "execution_count": 7,
     "metadata": {},
     "output_type": "execute_result"
    }
   ],
   "source": [
    "len(test_data)"
   ]
  }
 ],
 "metadata": {
  "kernelspec": {
   "display_name": "Python 3",
   "language": "python",
   "name": "python3"
  },
  "language_info": {
   "codemirror_mode": {
    "name": "ipython",
    "version": 3
   },
   "file_extension": ".py",
   "mimetype": "text/x-python",
   "name": "python",
   "nbconvert_exporter": "python",
   "pygments_lexer": "ipython3",
   "version": "3.8.5"
  }
 },
 "nbformat": 4,
 "nbformat_minor": 5
}
